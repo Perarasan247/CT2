{
 "cells": [
  {
   "cell_type": "code",
   "execution_count": 2,
   "id": "67742338",
   "metadata": {},
   "outputs": [
    {
     "name": "stderr",
     "output_type": "stream",
     "text": [
      "p:\\VirtualEnvs\\p_ds\\Lib\\site-packages\\tqdm\\auto.py:21: TqdmWarning: IProgress not found. Please update jupyter and ipywidgets. See https://ipywidgets.readthedocs.io/en/stable/user_install.html\n",
      "  from .autonotebook import tqdm as notebook_tqdm\n"
     ]
    },
    {
     "name": "stdout",
     "output_type": "stream",
     "text": [
      "Downloading from https://www.kaggle.com/api/v1/datasets/download/samuelcortinhas/cats-and-dogs-image-classification?dataset_version_number=4...\n"
     ]
    },
    {
     "name": "stderr",
     "output_type": "stream",
     "text": [
      "100%|██████████| 64.4M/64.4M [00:19<00:00, 3.50MB/s]"
     ]
    },
    {
     "name": "stdout",
     "output_type": "stream",
     "text": [
      "Extracting files...\n"
     ]
    },
    {
     "name": "stderr",
     "output_type": "stream",
     "text": [
      "\n"
     ]
    },
    {
     "name": "stdout",
     "output_type": "stream",
     "text": [
      "Path to dataset files: C:\\Users\\devar\\.cache\\kagglehub\\datasets\\samuelcortinhas\\cats-and-dogs-image-classification\\versions\\4\n"
     ]
    }
   ],
   "source": [
    "import tensorflow as tf\n",
    "from tensorflow.keras.preprocessing import image_dataset_from_directory\n",
    "from tensorflow.keras.layers import Dense,Softmax\n",
    "from tensorflow.keras.models import Sequential\n",
    "from tensorflow.keras.losses import SparseCategoricalCrossentropy\n",
    "import matplotlib.pyplot as plt\n",
    "\n",
    "# !pip install kagglehub\n",
    "import kagglehub\n",
    "\n",
    "# Download latest version\n",
    "path = kagglehub.dataset_download(\"samuelcortinhas/cats-and-dogs-image-classification\")\n",
    "\n",
    "print(\"Path to dataset files:\", path)"
   ]
  },
  {
   "cell_type": "code",
   "execution_count": 3,
   "id": "4862317c",
   "metadata": {},
   "outputs": [
    {
     "name": "stdout",
     "output_type": "stream",
     "text": [
      "Found 557 files belonging to 2 classes.\n",
      "Found 140 files belonging to 2 classes.\n"
     ]
    }
   ],
   "source": [
    "img_height, img_width = 32, 32  # Resize all images to same size\n",
    "batch_size = 64\n",
    "\n",
    "train_dataset = image_dataset_from_directory(\n",
    "    f'{path}/train',\n",
    "    image_size=(img_height, img_width),\n",
    "    batch_size=batch_size,\n",
    "    label_mode='int'   # gives integer labels\n",
    ")\n",
    "\n",
    "test_dataset = image_dataset_from_directory(\n",
    "    f'{path}/test',\n",
    "    image_size=(img_height, img_width),\n",
    "    batch_size=batch_size,\n",
    "    label_mode='int'\n",
    ")"
   ]
  },
  {
   "cell_type": "code",
   "execution_count": 4,
   "id": "7d61ef0b",
   "metadata": {},
   "outputs": [
    {
     "name": "stdout",
     "output_type": "stream",
     "text": [
      "Epoch 1/10\n"
     ]
    },
    {
     "name": "stderr",
     "output_type": "stream",
     "text": [
      "p:\\VirtualEnvs\\p_ds\\Lib\\site-packages\\keras\\src\\layers\\core\\dense.py:92: UserWarning: Do not pass an `input_shape`/`input_dim` argument to a layer. When using Sequential models, prefer using an `Input(shape)` object as the first layer in the model instead.\n",
      "  super().__init__(activity_regularizer=activity_regularizer, **kwargs)\n"
     ]
    },
    {
     "name": "stdout",
     "output_type": "stream",
     "text": [
      "\u001b[1m9/9\u001b[0m \u001b[32m━━━━━━━━━━━━━━━━━━━━\u001b[0m\u001b[37m\u001b[0m \u001b[1m3s\u001b[0m 61ms/step - accuracy: 0.5063 - loss: 2.7128 - val_accuracy: 0.5000 - val_loss: 0.7033\n",
      "Epoch 2/10\n",
      "\u001b[1m9/9\u001b[0m \u001b[32m━━━━━━━━━━━━━━━━━━━━\u001b[0m\u001b[37m\u001b[0m \u001b[1m1s\u001b[0m 55ms/step - accuracy: 0.4901 - loss: 0.8233 - val_accuracy: 0.5000 - val_loss: 0.7335\n",
      "Epoch 3/10\n",
      "\u001b[1m9/9\u001b[0m \u001b[32m━━━━━━━━━━━━━━━━━━━━\u001b[0m\u001b[37m\u001b[0m \u001b[1m1s\u001b[0m 53ms/step - accuracy: 0.5314 - loss: 0.7102 - val_accuracy: 0.4857 - val_loss: 0.7067\n",
      "Epoch 4/10\n",
      "\u001b[1m9/9\u001b[0m \u001b[32m━━━━━━━━━━━━━━━━━━━━\u001b[0m\u001b[37m\u001b[0m \u001b[1m1s\u001b[0m 52ms/step - accuracy: 0.5566 - loss: 0.6788 - val_accuracy: 0.4643 - val_loss: 0.6963\n",
      "Epoch 5/10\n",
      "\u001b[1m9/9\u001b[0m \u001b[32m━━━━━━━━━━━━━━━━━━━━\u001b[0m\u001b[37m\u001b[0m \u001b[1m1s\u001b[0m 49ms/step - accuracy: 0.5871 - loss: 0.6613 - val_accuracy: 0.5000 - val_loss: 0.7456\n",
      "Epoch 6/10\n",
      "\u001b[1m9/9\u001b[0m \u001b[32m━━━━━━━━━━━━━━━━━━━━\u001b[0m\u001b[37m\u001b[0m \u001b[1m1s\u001b[0m 55ms/step - accuracy: 0.5943 - loss: 0.6749 - val_accuracy: 0.5143 - val_loss: 0.7516\n",
      "Epoch 7/10\n",
      "\u001b[1m9/9\u001b[0m \u001b[32m━━━━━━━━━━━━━━━━━━━━\u001b[0m\u001b[37m\u001b[0m \u001b[1m1s\u001b[0m 50ms/step - accuracy: 0.5978 - loss: 0.6539 - val_accuracy: 0.5071 - val_loss: 0.7641\n",
      "Epoch 8/10\n",
      "\u001b[1m9/9\u001b[0m \u001b[32m━━━━━━━━━━━━━━━━━━━━\u001b[0m\u001b[37m\u001b[0m \u001b[1m1s\u001b[0m 55ms/step - accuracy: 0.6140 - loss: 0.6471 - val_accuracy: 0.5143 - val_loss: 0.7265\n",
      "Epoch 9/10\n",
      "\u001b[1m9/9\u001b[0m \u001b[32m━━━━━━━━━━━━━━━━━━━━\u001b[0m\u001b[37m\u001b[0m \u001b[1m1s\u001b[0m 53ms/step - accuracy: 0.6266 - loss: 0.6419 - val_accuracy: 0.5071 - val_loss: 0.7465\n",
      "Epoch 10/10\n",
      "\u001b[1m9/9\u001b[0m \u001b[32m━━━━━━━━━━━━━━━━━━━━\u001b[0m\u001b[37m\u001b[0m \u001b[1m1s\u001b[0m 55ms/step - accuracy: 0.5961 - loss: 0.6704 - val_accuracy: 0.5429 - val_loss: 0.7370\n",
      "\u001b[1m3/3\u001b[0m \u001b[32m━━━━━━━━━━━━━━━━━━━━\u001b[0m\u001b[37m\u001b[0m \u001b[1m0s\u001b[0m 24ms/step - accuracy: 0.5429 - loss: 0.7370\n",
      "Test accuracy: 0.54\n",
      "\u001b[1m2/2\u001b[0m \u001b[32m━━━━━━━━━━━━━━━━━━━━\u001b[0m\u001b[37m\u001b[0m \u001b[1m0s\u001b[0m 12ms/step \n",
      "Predicted: cat, True: cat\n",
      "Predicted: dog, True: dog\n",
      "Predicted: cat, True: dog\n",
      "Predicted: cat, True: dog\n",
      "Predicted: cat, True: dog\n",
      "\u001b[1m2/2\u001b[0m \u001b[32m━━━━━━━━━━━━━━━━━━━━\u001b[0m\u001b[37m\u001b[0m \u001b[1m0s\u001b[0m 13ms/step\n"
     ]
    },
    {
     "ename": "ValueError",
     "evalue": "cannot reshape array of size 3072 into shape (128,128,3)",
     "output_type": "error",
     "traceback": [
      "\u001b[31m---------------------------------------------------------------------------\u001b[39m",
      "\u001b[31mValueError\u001b[39m                                Traceback (most recent call last)",
      "\u001b[36mCell\u001b[39m\u001b[36m \u001b[39m\u001b[32mIn[4]\u001b[39m\u001b[32m, line 45\u001b[39m\n\u001b[32m     43\u001b[39m \u001b[38;5;28;01mfor\u001b[39;00m i \u001b[38;5;129;01min\u001b[39;00m \u001b[38;5;28mrange\u001b[39m(\u001b[32m5\u001b[39m):\n\u001b[32m     44\u001b[39m     plt.subplot(\u001b[32m1\u001b[39m, \u001b[32m5\u001b[39m, i+\u001b[32m1\u001b[39m)\n\u001b[32m---> \u001b[39m\u001b[32m45\u001b[39m     plt.imshow(\u001b[43mimages\u001b[49m\u001b[43m[\u001b[49m\u001b[43mi\u001b[49m\u001b[43m]\u001b[49m\u001b[43m.\u001b[49m\u001b[43mnumpy\u001b[49m\u001b[43m(\u001b[49m\u001b[43m)\u001b[49m\u001b[43m.\u001b[49m\u001b[43mreshape\u001b[49m\u001b[43m(\u001b[49m\u001b[32;43m128\u001b[39;49m\u001b[43m,\u001b[49m\u001b[43m \u001b[49m\u001b[32;43m128\u001b[39;49m\u001b[43m,\u001b[49m\u001b[43m \u001b[49m\u001b[32;43m3\u001b[39;49m\u001b[43m)\u001b[49m)\n\u001b[32m     46\u001b[39m     pred_label = class_names[tf.argmax(predictions[i])]\n\u001b[32m     47\u001b[39m     true_label = class_names[labels[i]]\n",
      "\u001b[31mValueError\u001b[39m: cannot reshape array of size 3072 into shape (128,128,3)"
     ]
    },
    {
     "data": {
      "image/png": "[encoded data removed]",
      "text/plain": [
       "<Figure size 1200x300 with 1 Axes>"
      ]
     },
     "metadata": {},
     "output_type": "display_data"
    }
   ],
   "source": [
    "def flatten_and_normalize(images, labels):\n",
    "    images = tf.reshape(images, (tf.shape(images)[0], -1)) / 255.0\n",
    "    return images, labels\n",
    "\n",
    "train_dataset = train_dataset.map(flatten_and_normalize)\n",
    "test_dataset = test_dataset.map(flatten_and_normalize)\n",
    "\n",
    "class_names = [\"cat\",\"dog\"]  # Put your class names here\n",
    "num_classes = len(class_names)\n",
    "\n",
    "\n",
    "input_shape = img_height * img_width * 3  # 3 channels for RGB\n",
    "model = Sequential([\n",
    "    Dense(512, activation='relu', input_shape=(input_shape,)),\n",
    "    Dense(256, activation='relu'),\n",
    "    Dense(num_classes)\n",
    "])\n",
    "\n",
    "\n",
    "model.compile(\n",
    "    optimizer='adam',\n",
    "    loss=SparseCategoricalCrossentropy(from_logits=True),\n",
    "    metrics=['accuracy']\n",
    ")\n",
    "\n",
    "model.fit(train_dataset, epochs=10, validation_data=test_dataset)\n",
    "\n",
    "test_loss, test_acc = model.evaluate(test_dataset)\n",
    "print(f\"Test accuracy: {test_acc:.2f}\")\n",
    "\n",
    "\n",
    "probability_model = Sequential([model, Softmax()])\n",
    "\n",
    "for images, labels in test_dataset.take(1):\n",
    "    predictions = probability_model.predict(images)\n",
    "    for i in range(5):\n",
    "        print(f\"Predicted: {class_names[tf.argmax(predictions[i])]}, True: {class_names[labels[i]]}\")\n",
    "\n",
    "\n",
    "for images, labels in test_dataset.take(1):\n",
    "    predictions = probability_model.predict(images)\n",
    "    plt.figure(figsize=(12, 3))\n",
    "    for i in range(5):\n",
    "        plt.subplot(1, 5, i+1)\n",
    "        plt.imshow(images[i].numpy().reshape(128, 128, 3))\n",
    "        pred_label = class_names[tf.argmax(predictions[i])]\n",
    "        true_label = class_names[labels[i]]\n",
    "        color = 'green' if pred_label == true_label else 'red'\n",
    "        plt.title(pred_label, color=color)\n",
    "        plt.axis('off')\n",
    "    plt.show()"
   ]
  },
  {
   "cell_type": "code",
   "execution_count": null,
   "id": "7f6cb7b3",
   "metadata": {},
   "outputs": [],
   "source": []
  }
 ],
 "metadata": {
  "kernelspec": {
   "display_name": "P:\\VirtualEnvs\\p_ds (3.13.7)",
   "language": "python",
   "name": "python3"
  },
  "language_info": {
   "codemirror_mode": {
    "name": "ipython",
    "version": 3
   },
   "file_extension": ".py",
   "mimetype": "text/x-python",
   "name": "python",
   "nbconvert_exporter": "python",
   "pygments_lexer": "ipython3",
   "version": "3.13.7"
  }
 },
 "nbformat": 4,
 "nbformat_minor": 5
}
